{
  "nbformat": 4,
  "nbformat_minor": 0,
  "metadata": {
    "colab": {
      "provenance": [],
      "collapsed_sections": []
    },
    "kernelspec": {
      "name": "python3",
      "display_name": "Python 3"
    },
    "language_info": {
      "name": "python"
    },
    "accelerator": "GPU",
    "gpuClass": "standard"
  },
  "cells": [
    {
      "cell_type": "markdown",
      "source": [
        "Decision Tree"
      ],
      "metadata": {
        "id": "zmj9wH_sEc3L"
      }
    },
    {
      "cell_type": "code",
      "source": [
        "import numpy as np\n",
        "import pandas as pd\n",
        "import matplotlib.pyplot as plt\n",
        "import seaborn as sns\n",
        "import statsmodels.formula.api as smf"
      ],
      "metadata": {
        "id": "HaVJ1YfnOQVr"
      },
      "execution_count": 1,
      "outputs": []
    },
    {
      "cell_type": "code",
      "source": [
        "dataset = pd.read_csv('https://raw.githubusercontent.com/Defcon27/Data-Analysis-of-Indian-Automobile-dataset-using-Machine-Learning-in-R/master/indian-auto-mpg.csv', index_col = 0)"
      ],
      "metadata": {
        "id": "ComGyvUDOYls"
      },
      "execution_count": 2,
      "outputs": []
    },
    {
      "cell_type": "code",
      "source": [
        "dataset.head()"
      ],
      "metadata": {
        "colab": {
          "base_uri": "https://localhost:8080/",
          "height": 337
        },
        "id": "dCLTeg0yOhJD",
        "outputId": "56e047f6-7658-4771-ffe4-70be7d33dadd"
      },
      "execution_count": 3,
      "outputs": [
        {
          "output_type": "execute_result",
          "data": {
            "text/plain": [
              "                               Name Manufacturer    Location  Year  \\\n",
              "0            Maruti Wagon R LXI CNG       Maruti      Mumbai  2010   \n",
              "1  Hyundai Creta 1.6 CRDi SX Option      Hyundai        Pune  2015   \n",
              "2                      Honda Jazz V        Honda     Chennai  2011   \n",
              "3                 Maruti Ertiga VDI       Maruti     Chennai  2012   \n",
              "4   Audi A4 New 2.0 TDI Multitronic         Audi  Coimbatore  2013   \n",
              "\n",
              "   Kilometers_Driven Fuel_Type Transmission Owner_Type  Engine CC   Power  \\\n",
              "0              72000       CNG       Manual      First        998   58.16   \n",
              "1              41000    Diesel       Manual      First       1582  126.20   \n",
              "2              46000    Petrol       Manual      First       1199   88.70   \n",
              "3              87000    Diesel       Manual      First       1248   88.76   \n",
              "4              40670    Diesel    Automatic     Second       1968  140.80   \n",
              "\n",
              "   Seats  Mileage Km/L  Price  \n",
              "0      5         26.60   1.75  \n",
              "1      5         19.67  12.50  \n",
              "2      5         18.20   4.50  \n",
              "3      7         20.77   6.00  \n",
              "4      5         15.20  17.74  "
            ],
            "text/html": [
              "\n",
              "  <div id=\"df-79046ba0-4cf1-49cd-acce-e21b4e32bfc4\">\n",
              "    <div class=\"colab-df-container\">\n",
              "      <div>\n",
              "<style scoped>\n",
              "    .dataframe tbody tr th:only-of-type {\n",
              "        vertical-align: middle;\n",
              "    }\n",
              "\n",
              "    .dataframe tbody tr th {\n",
              "        vertical-align: top;\n",
              "    }\n",
              "\n",
              "    .dataframe thead th {\n",
              "        text-align: right;\n",
              "    }\n",
              "</style>\n",
              "<table border=\"1\" class=\"dataframe\">\n",
              "  <thead>\n",
              "    <tr style=\"text-align: right;\">\n",
              "      <th></th>\n",
              "      <th>Name</th>\n",
              "      <th>Manufacturer</th>\n",
              "      <th>Location</th>\n",
              "      <th>Year</th>\n",
              "      <th>Kilometers_Driven</th>\n",
              "      <th>Fuel_Type</th>\n",
              "      <th>Transmission</th>\n",
              "      <th>Owner_Type</th>\n",
              "      <th>Engine CC</th>\n",
              "      <th>Power</th>\n",
              "      <th>Seats</th>\n",
              "      <th>Mileage Km/L</th>\n",
              "      <th>Price</th>\n",
              "    </tr>\n",
              "  </thead>\n",
              "  <tbody>\n",
              "    <tr>\n",
              "      <th>0</th>\n",
              "      <td>Maruti Wagon R LXI CNG</td>\n",
              "      <td>Maruti</td>\n",
              "      <td>Mumbai</td>\n",
              "      <td>2010</td>\n",
              "      <td>72000</td>\n",
              "      <td>CNG</td>\n",
              "      <td>Manual</td>\n",
              "      <td>First</td>\n",
              "      <td>998</td>\n",
              "      <td>58.16</td>\n",
              "      <td>5</td>\n",
              "      <td>26.60</td>\n",
              "      <td>1.75</td>\n",
              "    </tr>\n",
              "    <tr>\n",
              "      <th>1</th>\n",
              "      <td>Hyundai Creta 1.6 CRDi SX Option</td>\n",
              "      <td>Hyundai</td>\n",
              "      <td>Pune</td>\n",
              "      <td>2015</td>\n",
              "      <td>41000</td>\n",
              "      <td>Diesel</td>\n",
              "      <td>Manual</td>\n",
              "      <td>First</td>\n",
              "      <td>1582</td>\n",
              "      <td>126.20</td>\n",
              "      <td>5</td>\n",
              "      <td>19.67</td>\n",
              "      <td>12.50</td>\n",
              "    </tr>\n",
              "    <tr>\n",
              "      <th>2</th>\n",
              "      <td>Honda Jazz V</td>\n",
              "      <td>Honda</td>\n",
              "      <td>Chennai</td>\n",
              "      <td>2011</td>\n",
              "      <td>46000</td>\n",
              "      <td>Petrol</td>\n",
              "      <td>Manual</td>\n",
              "      <td>First</td>\n",
              "      <td>1199</td>\n",
              "      <td>88.70</td>\n",
              "      <td>5</td>\n",
              "      <td>18.20</td>\n",
              "      <td>4.50</td>\n",
              "    </tr>\n",
              "    <tr>\n",
              "      <th>3</th>\n",
              "      <td>Maruti Ertiga VDI</td>\n",
              "      <td>Maruti</td>\n",
              "      <td>Chennai</td>\n",
              "      <td>2012</td>\n",
              "      <td>87000</td>\n",
              "      <td>Diesel</td>\n",
              "      <td>Manual</td>\n",
              "      <td>First</td>\n",
              "      <td>1248</td>\n",
              "      <td>88.76</td>\n",
              "      <td>7</td>\n",
              "      <td>20.77</td>\n",
              "      <td>6.00</td>\n",
              "    </tr>\n",
              "    <tr>\n",
              "      <th>4</th>\n",
              "      <td>Audi A4 New 2.0 TDI Multitronic</td>\n",
              "      <td>Audi</td>\n",
              "      <td>Coimbatore</td>\n",
              "      <td>2013</td>\n",
              "      <td>40670</td>\n",
              "      <td>Diesel</td>\n",
              "      <td>Automatic</td>\n",
              "      <td>Second</td>\n",
              "      <td>1968</td>\n",
              "      <td>140.80</td>\n",
              "      <td>5</td>\n",
              "      <td>15.20</td>\n",
              "      <td>17.74</td>\n",
              "    </tr>\n",
              "  </tbody>\n",
              "</table>\n",
              "</div>\n",
              "      <button class=\"colab-df-convert\" onclick=\"convertToInteractive('df-79046ba0-4cf1-49cd-acce-e21b4e32bfc4')\"\n",
              "              title=\"Convert this dataframe to an interactive table.\"\n",
              "              style=\"display:none;\">\n",
              "        \n",
              "  <svg xmlns=\"http://www.w3.org/2000/svg\" height=\"24px\"viewBox=\"0 0 24 24\"\n",
              "       width=\"24px\">\n",
              "    <path d=\"M0 0h24v24H0V0z\" fill=\"none\"/>\n",
              "    <path d=\"M18.56 5.44l.94 2.06.94-2.06 2.06-.94-2.06-.94-.94-2.06-.94 2.06-2.06.94zm-11 1L8.5 8.5l.94-2.06 2.06-.94-2.06-.94L8.5 2.5l-.94 2.06-2.06.94zm10 10l.94 2.06.94-2.06 2.06-.94-2.06-.94-.94-2.06-.94 2.06-2.06.94z\"/><path d=\"M17.41 7.96l-1.37-1.37c-.4-.4-.92-.59-1.43-.59-.52 0-1.04.2-1.43.59L10.3 9.45l-7.72 7.72c-.78.78-.78 2.05 0 2.83L4 21.41c.39.39.9.59 1.41.59.51 0 1.02-.2 1.41-.59l7.78-7.78 2.81-2.81c.8-.78.8-2.07 0-2.86zM5.41 20L4 18.59l7.72-7.72 1.47 1.35L5.41 20z\"/>\n",
              "  </svg>\n",
              "      </button>\n",
              "      \n",
              "  <style>\n",
              "    .colab-df-container {\n",
              "      display:flex;\n",
              "      flex-wrap:wrap;\n",
              "      gap: 12px;\n",
              "    }\n",
              "\n",
              "    .colab-df-convert {\n",
              "      background-color: #E8F0FE;\n",
              "      border: none;\n",
              "      border-radius: 50%;\n",
              "      cursor: pointer;\n",
              "      display: none;\n",
              "      fill: #1967D2;\n",
              "      height: 32px;\n",
              "      padding: 0 0 0 0;\n",
              "      width: 32px;\n",
              "    }\n",
              "\n",
              "    .colab-df-convert:hover {\n",
              "      background-color: #E2EBFA;\n",
              "      box-shadow: 0px 1px 2px rgba(60, 64, 67, 0.3), 0px 1px 3px 1px rgba(60, 64, 67, 0.15);\n",
              "      fill: #174EA6;\n",
              "    }\n",
              "\n",
              "    [theme=dark] .colab-df-convert {\n",
              "      background-color: #3B4455;\n",
              "      fill: #D2E3FC;\n",
              "    }\n",
              "\n",
              "    [theme=dark] .colab-df-convert:hover {\n",
              "      background-color: #434B5C;\n",
              "      box-shadow: 0px 1px 3px 1px rgba(0, 0, 0, 0.15);\n",
              "      filter: drop-shadow(0px 1px 2px rgba(0, 0, 0, 0.3));\n",
              "      fill: #FFFFFF;\n",
              "    }\n",
              "  </style>\n",
              "\n",
              "      <script>\n",
              "        const buttonEl =\n",
              "          document.querySelector('#df-79046ba0-4cf1-49cd-acce-e21b4e32bfc4 button.colab-df-convert');\n",
              "        buttonEl.style.display =\n",
              "          google.colab.kernel.accessAllowed ? 'block' : 'none';\n",
              "\n",
              "        async function convertToInteractive(key) {\n",
              "          const element = document.querySelector('#df-79046ba0-4cf1-49cd-acce-e21b4e32bfc4');\n",
              "          const dataTable =\n",
              "            await google.colab.kernel.invokeFunction('convertToInteractive',\n",
              "                                                     [key], {});\n",
              "          if (!dataTable) return;\n",
              "\n",
              "          const docLinkHtml = 'Like what you see? Visit the ' +\n",
              "            '<a target=\"_blank\" href=https://colab.research.google.com/notebooks/data_table.ipynb>data table notebook</a>'\n",
              "            + ' to learn more about interactive tables.';\n",
              "          element.innerHTML = '';\n",
              "          dataTable['output_type'] = 'display_data';\n",
              "          await google.colab.output.renderOutput(dataTable, element);\n",
              "          const docLink = document.createElement('div');\n",
              "          docLink.innerHTML = docLinkHtml;\n",
              "          element.appendChild(docLink);\n",
              "        }\n",
              "      </script>\n",
              "    </div>\n",
              "  </div>\n",
              "  "
            ]
          },
          "metadata": {},
          "execution_count": 3
        }
      ]
    },
    {
      "cell_type": "code",
      "source": [
        "dataset.isnull().any()"
      ],
      "metadata": {
        "colab": {
          "base_uri": "https://localhost:8080/"
        },
        "id": "WnIRz-qCOjhD",
        "outputId": "52114f56-9806-4982-e513-604f42a7e125"
      },
      "execution_count": 4,
      "outputs": [
        {
          "output_type": "execute_result",
          "data": {
            "text/plain": [
              "Name                 False\n",
              "Manufacturer         False\n",
              "Location             False\n",
              "Year                 False\n",
              "Kilometers_Driven    False\n",
              "Fuel_Type            False\n",
              "Transmission         False\n",
              "Owner_Type           False\n",
              "Engine CC            False\n",
              "Power                False\n",
              "Seats                False\n",
              "Mileage Km/L         False\n",
              "Price                False\n",
              "dtype: bool"
            ]
          },
          "metadata": {},
          "execution_count": 4
        }
      ]
    },
    {
      "cell_type": "code",
      "source": [
        "dataset.info()"
      ],
      "metadata": {
        "colab": {
          "base_uri": "https://localhost:8080/"
        },
        "id": "MP0OF5QZOn68",
        "outputId": "05074ac4-ad97-47a0-f846-bf37a768af58"
      },
      "execution_count": 5,
      "outputs": [
        {
          "output_type": "stream",
          "name": "stdout",
          "text": [
            "<class 'pandas.core.frame.DataFrame'>\n",
            "Int64Index: 5975 entries, 0 to 6018\n",
            "Data columns (total 13 columns):\n",
            " #   Column             Non-Null Count  Dtype  \n",
            "---  ------             --------------  -----  \n",
            " 0   Name               5975 non-null   object \n",
            " 1   Manufacturer       5975 non-null   object \n",
            " 2   Location           5975 non-null   object \n",
            " 3   Year               5975 non-null   int64  \n",
            " 4   Kilometers_Driven  5975 non-null   int64  \n",
            " 5   Fuel_Type          5975 non-null   object \n",
            " 6   Transmission       5975 non-null   object \n",
            " 7   Owner_Type         5975 non-null   object \n",
            " 8   Engine CC          5975 non-null   int64  \n",
            " 9   Power              5975 non-null   float64\n",
            " 10  Seats              5975 non-null   int64  \n",
            " 11  Mileage Km/L       5975 non-null   float64\n",
            " 12  Price              5975 non-null   float64\n",
            "dtypes: float64(3), int64(4), object(6)\n",
            "memory usage: 653.5+ KB\n"
          ]
        }
      ]
    },
    {
      "cell_type": "code",
      "source": [
        "dataset = dataset.drop('Name',axis=1)\n",
        "dataset = dataset.drop('Manufacturer',axis=1)\n",
        "dataset = dataset.drop('Location',axis=1)\n"
      ],
      "metadata": {
        "id": "KxegQ2vzOqez"
      },
      "execution_count": 6,
      "outputs": []
    },
    {
      "cell_type": "code",
      "source": [
        "dataset = dataset.drop('Owner_Type',axis=1)"
      ],
      "metadata": {
        "id": "g0TrhsF3Pko8"
      },
      "execution_count": 7,
      "outputs": []
    },
    {
      "cell_type": "code",
      "source": [
        "dataset = dataset.drop('Year',axis=1)"
      ],
      "metadata": {
        "id": "ELT7gGm_PyPt"
      },
      "execution_count": 8,
      "outputs": []
    },
    {
      "cell_type": "code",
      "source": [
        "dataset[\"Fuel_Type\"] = dataset[\"Fuel_Type\"].map({'CNG': 0,'Diesel': 1,'Petrol': 2,'LPG': 3,'Electric': 4})\n",
        "dataset[\"Transmission\"] = dataset[\"Transmission\"].map({'Manual': 0, 'Automatic': 1})"
      ],
      "metadata": {
        "id": "JqbCZpfoPeKr"
      },
      "execution_count": 9,
      "outputs": []
    },
    {
      "cell_type": "code",
      "source": [
        "dataset.head()"
      ],
      "metadata": {
        "colab": {
          "base_uri": "https://localhost:8080/",
          "height": 206
        },
        "id": "O-0DgtshPuoM",
        "outputId": "12877e6e-50b6-46ae-8670-d38b2d84de8e"
      },
      "execution_count": 10,
      "outputs": [
        {
          "output_type": "execute_result",
          "data": {
            "text/plain": [
              "   Kilometers_Driven  Fuel_Type  Transmission  Engine CC   Power  Seats  \\\n",
              "0              72000          0             0        998   58.16      5   \n",
              "1              41000          1             0       1582  126.20      5   \n",
              "2              46000          2             0       1199   88.70      5   \n",
              "3              87000          1             0       1248   88.76      7   \n",
              "4              40670          1             1       1968  140.80      5   \n",
              "\n",
              "   Mileage Km/L  Price  \n",
              "0         26.60   1.75  \n",
              "1         19.67  12.50  \n",
              "2         18.20   4.50  \n",
              "3         20.77   6.00  \n",
              "4         15.20  17.74  "
            ],
            "text/html": [
              "\n",
              "  <div id=\"df-f2b36113-166c-44a5-b73a-f3695b9f6d2e\">\n",
              "    <div class=\"colab-df-container\">\n",
              "      <div>\n",
              "<style scoped>\n",
              "    .dataframe tbody tr th:only-of-type {\n",
              "        vertical-align: middle;\n",
              "    }\n",
              "\n",
              "    .dataframe tbody tr th {\n",
              "        vertical-align: top;\n",
              "    }\n",
              "\n",
              "    .dataframe thead th {\n",
              "        text-align: right;\n",
              "    }\n",
              "</style>\n",
              "<table border=\"1\" class=\"dataframe\">\n",
              "  <thead>\n",
              "    <tr style=\"text-align: right;\">\n",
              "      <th></th>\n",
              "      <th>Kilometers_Driven</th>\n",
              "      <th>Fuel_Type</th>\n",
              "      <th>Transmission</th>\n",
              "      <th>Engine CC</th>\n",
              "      <th>Power</th>\n",
              "      <th>Seats</th>\n",
              "      <th>Mileage Km/L</th>\n",
              "      <th>Price</th>\n",
              "    </tr>\n",
              "  </thead>\n",
              "  <tbody>\n",
              "    <tr>\n",
              "      <th>0</th>\n",
              "      <td>72000</td>\n",
              "      <td>0</td>\n",
              "      <td>0</td>\n",
              "      <td>998</td>\n",
              "      <td>58.16</td>\n",
              "      <td>5</td>\n",
              "      <td>26.60</td>\n",
              "      <td>1.75</td>\n",
              "    </tr>\n",
              "    <tr>\n",
              "      <th>1</th>\n",
              "      <td>41000</td>\n",
              "      <td>1</td>\n",
              "      <td>0</td>\n",
              "      <td>1582</td>\n",
              "      <td>126.20</td>\n",
              "      <td>5</td>\n",
              "      <td>19.67</td>\n",
              "      <td>12.50</td>\n",
              "    </tr>\n",
              "    <tr>\n",
              "      <th>2</th>\n",
              "      <td>46000</td>\n",
              "      <td>2</td>\n",
              "      <td>0</td>\n",
              "      <td>1199</td>\n",
              "      <td>88.70</td>\n",
              "      <td>5</td>\n",
              "      <td>18.20</td>\n",
              "      <td>4.50</td>\n",
              "    </tr>\n",
              "    <tr>\n",
              "      <th>3</th>\n",
              "      <td>87000</td>\n",
              "      <td>1</td>\n",
              "      <td>0</td>\n",
              "      <td>1248</td>\n",
              "      <td>88.76</td>\n",
              "      <td>7</td>\n",
              "      <td>20.77</td>\n",
              "      <td>6.00</td>\n",
              "    </tr>\n",
              "    <tr>\n",
              "      <th>4</th>\n",
              "      <td>40670</td>\n",
              "      <td>1</td>\n",
              "      <td>1</td>\n",
              "      <td>1968</td>\n",
              "      <td>140.80</td>\n",
              "      <td>5</td>\n",
              "      <td>15.20</td>\n",
              "      <td>17.74</td>\n",
              "    </tr>\n",
              "  </tbody>\n",
              "</table>\n",
              "</div>\n",
              "      <button class=\"colab-df-convert\" onclick=\"convertToInteractive('df-f2b36113-166c-44a5-b73a-f3695b9f6d2e')\"\n",
              "              title=\"Convert this dataframe to an interactive table.\"\n",
              "              style=\"display:none;\">\n",
              "        \n",
              "  <svg xmlns=\"http://www.w3.org/2000/svg\" height=\"24px\"viewBox=\"0 0 24 24\"\n",
              "       width=\"24px\">\n",
              "    <path d=\"M0 0h24v24H0V0z\" fill=\"none\"/>\n",
              "    <path d=\"M18.56 5.44l.94 2.06.94-2.06 2.06-.94-2.06-.94-.94-2.06-.94 2.06-2.06.94zm-11 1L8.5 8.5l.94-2.06 2.06-.94-2.06-.94L8.5 2.5l-.94 2.06-2.06.94zm10 10l.94 2.06.94-2.06 2.06-.94-2.06-.94-.94-2.06-.94 2.06-2.06.94z\"/><path d=\"M17.41 7.96l-1.37-1.37c-.4-.4-.92-.59-1.43-.59-.52 0-1.04.2-1.43.59L10.3 9.45l-7.72 7.72c-.78.78-.78 2.05 0 2.83L4 21.41c.39.39.9.59 1.41.59.51 0 1.02-.2 1.41-.59l7.78-7.78 2.81-2.81c.8-.78.8-2.07 0-2.86zM5.41 20L4 18.59l7.72-7.72 1.47 1.35L5.41 20z\"/>\n",
              "  </svg>\n",
              "      </button>\n",
              "      \n",
              "  <style>\n",
              "    .colab-df-container {\n",
              "      display:flex;\n",
              "      flex-wrap:wrap;\n",
              "      gap: 12px;\n",
              "    }\n",
              "\n",
              "    .colab-df-convert {\n",
              "      background-color: #E8F0FE;\n",
              "      border: none;\n",
              "      border-radius: 50%;\n",
              "      cursor: pointer;\n",
              "      display: none;\n",
              "      fill: #1967D2;\n",
              "      height: 32px;\n",
              "      padding: 0 0 0 0;\n",
              "      width: 32px;\n",
              "    }\n",
              "\n",
              "    .colab-df-convert:hover {\n",
              "      background-color: #E2EBFA;\n",
              "      box-shadow: 0px 1px 2px rgba(60, 64, 67, 0.3), 0px 1px 3px 1px rgba(60, 64, 67, 0.15);\n",
              "      fill: #174EA6;\n",
              "    }\n",
              "\n",
              "    [theme=dark] .colab-df-convert {\n",
              "      background-color: #3B4455;\n",
              "      fill: #D2E3FC;\n",
              "    }\n",
              "\n",
              "    [theme=dark] .colab-df-convert:hover {\n",
              "      background-color: #434B5C;\n",
              "      box-shadow: 0px 1px 3px 1px rgba(0, 0, 0, 0.15);\n",
              "      filter: drop-shadow(0px 1px 2px rgba(0, 0, 0, 0.3));\n",
              "      fill: #FFFFFF;\n",
              "    }\n",
              "  </style>\n",
              "\n",
              "      <script>\n",
              "        const buttonEl =\n",
              "          document.querySelector('#df-f2b36113-166c-44a5-b73a-f3695b9f6d2e button.colab-df-convert');\n",
              "        buttonEl.style.display =\n",
              "          google.colab.kernel.accessAllowed ? 'block' : 'none';\n",
              "\n",
              "        async function convertToInteractive(key) {\n",
              "          const element = document.querySelector('#df-f2b36113-166c-44a5-b73a-f3695b9f6d2e');\n",
              "          const dataTable =\n",
              "            await google.colab.kernel.invokeFunction('convertToInteractive',\n",
              "                                                     [key], {});\n",
              "          if (!dataTable) return;\n",
              "\n",
              "          const docLinkHtml = 'Like what you see? Visit the ' +\n",
              "            '<a target=\"_blank\" href=https://colab.research.google.com/notebooks/data_table.ipynb>data table notebook</a>'\n",
              "            + ' to learn more about interactive tables.';\n",
              "          element.innerHTML = '';\n",
              "          dataTable['output_type'] = 'display_data';\n",
              "          await google.colab.output.renderOutput(dataTable, element);\n",
              "          const docLink = document.createElement('div');\n",
              "          docLink.innerHTML = docLinkHtml;\n",
              "          element.appendChild(docLink);\n",
              "        }\n",
              "      </script>\n",
              "    </div>\n",
              "  </div>\n",
              "  "
            ]
          },
          "metadata": {},
          "execution_count": 10
        }
      ]
    },
    {
      "cell_type": "code",
      "source": [
        "data=dataset[['Kilometers_Driven','Fuel_Type','Transmission','Engine CC','Power', 'Seats', 'Price','Mileage Km/L']].values"
      ],
      "metadata": {
        "id": "YAktm_qCPrL7"
      },
      "execution_count": 11,
      "outputs": []
    },
    {
      "cell_type": "code",
      "source": [
        "from sklearn.preprocessing import StandardScaler\n",
        "sd = StandardScaler()\n",
        "data = sd.fit_transform(data)\n",
        "data.shape"
      ],
      "metadata": {
        "colab": {
          "base_uri": "https://localhost:8080/"
        },
        "id": "Kmb-5e1mW33I",
        "outputId": "1d231d02-36d1-481f-e4a9-578615a93061"
      },
      "execution_count": 12,
      "outputs": [
        {
          "output_type": "execute_result",
          "data": {
            "text/plain": [
              "(5975, 8)"
            ]
          },
          "metadata": {},
          "execution_count": 12
        }
      ]
    },
    {
      "cell_type": "code",
      "source": [
        "x = data[:,:-1]"
      ],
      "metadata": {
        "id": "0sxeXRTaXI4K"
      },
      "execution_count": 13,
      "outputs": []
    },
    {
      "cell_type": "code",
      "source": [
        "x.shape"
      ],
      "metadata": {
        "colab": {
          "base_uri": "https://localhost:8080/"
        },
        "id": "yT6iVSzUQTn5",
        "outputId": "e7fe87d1-a6b7-4063-e2da-5bff2c5e22ca"
      },
      "execution_count": 14,
      "outputs": [
        {
          "output_type": "execute_result",
          "data": {
            "text/plain": [
              "(5975, 7)"
            ]
          },
          "metadata": {},
          "execution_count": 14
        }
      ]
    },
    {
      "cell_type": "code",
      "source": [
        "y=data[:,-1]\n",
        "y.shape"
      ],
      "metadata": {
        "colab": {
          "base_uri": "https://localhost:8080/"
        },
        "id": "UxdgYuxuQYox",
        "outputId": "745af828-6af0-4965-ea26-6edc331a703b"
      },
      "execution_count": 15,
      "outputs": [
        {
          "output_type": "execute_result",
          "data": {
            "text/plain": [
              "(5975,)"
            ]
          },
          "metadata": {},
          "execution_count": 15
        }
      ]
    },
    {
      "cell_type": "code",
      "source": [
        "from sklearn.model_selection import train_test_split"
      ],
      "metadata": {
        "id": "YRS2Ql0UQiv7"
      },
      "execution_count": 16,
      "outputs": []
    },
    {
      "cell_type": "code",
      "source": [
        "x_train,x_test,y_train,y_test=train_test_split(x,y,test_size=0.1,random_state=0)"
      ],
      "metadata": {
        "id": "OaGXXNbUQoID"
      },
      "execution_count": 17,
      "outputs": []
    },
    {
      "cell_type": "code",
      "source": [
        "y_train = y_train.reshape(1,-1)\n",
        "y_train"
      ],
      "metadata": {
        "colab": {
          "base_uri": "https://localhost:8080/"
        },
        "id": "eWmYH_PgQ-Bz",
        "outputId": "52ea01bf-e9ce-4921-82a7-1ddb798d44e5"
      },
      "execution_count": 18,
      "outputs": [
        {
          "output_type": "execute_result",
          "data": {
            "text/plain": [
              "array([[ 0.15494958, -1.47728017, -1.14552616, ...,  1.68544143,\n",
              "        -1.3003447 ,  0.07090523]])"
            ]
          },
          "metadata": {},
          "execution_count": 18
        }
      ]
    },
    {
      "cell_type": "code",
      "source": [
        "y_test = y_test.reshape(1,-1)\n",
        "y_test"
      ],
      "metadata": {
        "colab": {
          "base_uri": "https://localhost:8080/"
        },
        "id": "FlViWTH5RnvT",
        "outputId": "eeb61b65-aaae-48e4-8bc1-f15fc420308c"
      },
      "execution_count": 19,
      "outputs": [
        {
          "output_type": "execute_result",
          "data": {
            "text/plain": [
              "array([[-1.47728017e+00,  1.37580435e+00,  1.59372963e-01,\n",
              "        -7.69538277e-01, -5.73729932e-02, -1.60334670e+00,\n",
              "        -4.02072761e+00,  1.81489897e-01,  1.81489897e-01,\n",
              "         1.64120756e+00,  4.02659240e-01,  1.81489897e-01,\n",
              "        -1.35563703e+00,  1.28733661e+00, -2.60848788e-01,\n",
              "        -4.29235096e-03, -3.78068540e-01,  2.08796963e+00,\n",
              "         9.97604771e-01, -1.10129229e+00,  1.60582046e+00,\n",
              "        -2.60848788e-01, -1.14552616e+00,  3.60637064e-01,\n",
              "        -4.02397168e-01,  9.30221598e-02, -4.62112890e-01,\n",
              "         9.99816465e-01,  1.72967530e+00,  9.55582596e-01,\n",
              "        -5.41733854e-01,  1.55273982e+00, -1.60334670e+00,\n",
              "         2.14665298e-01,  9.15772114e-01,  1.55273982e+00,\n",
              "        -9.68590685e-01, -2.60848788e-01,  1.53062289e+00,\n",
              "        -1.01606862e-01, -1.18976003e+00,  9.51159209e-01,\n",
              "         7.18931400e-01,  1.40234467e+00, -8.39133143e-02,\n",
              "         5.22090685e-01,  3.36308437e-01,  2.54475780e-01,\n",
              "         4.82280203e-01,  9.30221598e-02,  2.03710068e+00,\n",
              "        -4.59901197e-01, -1.24505236e+00, -7.47421342e-01,\n",
              "         4.82280203e-01,  6.50368903e-01,  1.08386081e+00,\n",
              "        -4.62112890e-01, -9.90707619e-01,  4.82280203e-01,\n",
              "        -2.60848788e-01,  4.02659240e-01,  9.30221598e-02,\n",
              "        -9.90707619e-01,  5.64112860e-01,  2.01395138e-01,\n",
              "        -1.94497986e-01, -6.17963800e-02,  3.14191502e-01,\n",
              "         4.82280203e-01,  5.76350650e-02,  5.72959633e-01,\n",
              "        -2.49790321e-01,  1.69207651e+00,  5.15455604e-01,\n",
              "        -8.07137065e-01, -1.58786484e+00,  2.01719544e+00,\n",
              "        -1.50264117e-01, -8.39133143e-02, -4.02072761e+00,\n",
              "        -2.60848788e-01,  1.59372963e-01,  3.60637064e-01,\n",
              "         8.44997925e-01,  9.99816465e-01,  1.04405033e+00,\n",
              "        -7.60691503e-01, -1.14552616e+00,  4.02659240e-01,\n",
              "        -4.82018131e-01,  2.66713570e-02, -1.12340922e+00,\n",
              "        -2.60848788e-01, -7.03187474e-01,  1.10818944e+00,\n",
              "        -1.41092937e+00, -1.18976003e+00, -2.71907256e-01,\n",
              "        -3.05082657e-01,  5.72959633e-01, -2.60848788e-01,\n",
              "        -1.41092937e+00,  1.59697369e+00, -3.96794458e-02,\n",
              "        -2.60848788e-01,  1.19665718e+00,  4.02659240e-01,\n",
              "        -1.14773785e+00,  5.04397137e-01, -9.24356816e-01,\n",
              "         2.69957634e-01,  9.99816465e-01, -1.69844952e+00,\n",
              "        -1.72381051e-01, -3.96794458e-02,  2.03606831e-01,\n",
              "         9.30221598e-02, -4.02072761e+00, -1.35563703e+00,\n",
              "        -1.04599995e+00, -3.96794458e-02, -3.78068540e-01,\n",
              "         1.19665718e+00, -1.14773785e+00, -1.59228823e+00,\n",
              "         1.59372963e-01,  1.08828420e+00, -2.60848788e-01,\n",
              "         4.82280203e-01, -3.60374993e-01,  5.72959633e-01,\n",
              "        -2.58637095e-01, -1.10453635e-01, -3.96794458e-02,\n",
              "         1.55273982e+00, -3.05082657e-01, -7.60691503e-01,\n",
              "        -6.14719737e-01, -1.58786484e+00, -6.17963800e-02,\n",
              "         1.55273982e+00,  1.04405033e+00,  3.34096743e-01,\n",
              "        -2.60848788e-01, -2.60848788e-01, -5.92602802e-01,\n",
              "         9.30221598e-02,  1.86237690e+00,  9.30221598e-02,\n",
              "        -1.03494149e+00, -3.78068540e-01,  5.02185444e-01,\n",
              "        -1.72381051e-01,  8.60479779e-01, -8.88969722e-01,\n",
              "         6.52580597e-01,  2.69957634e-01,  1.19665718e+00,\n",
              "         9.30221598e-02,  1.26521968e+00,  2.19191922e+00,\n",
              "         9.30221598e-02, -1.35563703e+00, -7.03187474e-01,\n",
              "         4.33622947e-01,  5.99499954e-01, -1.10453635e-01,\n",
              "         7.09052255e-02,  7.09052255e-02,  4.33622947e-01,\n",
              "         1.59372963e-01, -9.24356816e-01,  3.36308437e-01,\n",
              "         1.31035895e-04,  4.91126977e-01, -9.95131006e-01,\n",
              "         4.02659240e-01,  7.09052255e-02,  1.59372963e-01,\n",
              "         2.19191922e+00,  1.54949576e-01,  1.08386081e+00,\n",
              "         2.01395138e-01, -4.02397168e-01,  7.09052255e-02,\n",
              "         3.31885050e-01, -4.59901197e-01,  1.83701590e-01,\n",
              "        -3.71433460e-01,  2.03606831e-01, -2.60848788e-01,\n",
              "        -1.25611083e+00, -6.36836671e-01,  2.47840700e-01,\n",
              "        -1.14773785e+00, -6.81070539e-01,  7.07872932e-01,\n",
              "         9.30221598e-02, -9.24356816e-01,  9.99816465e-01,\n",
              "         5.13243911e-01, -1.35563703e+00, -1.50264117e-01,\n",
              "         1.04405033e+00,  4.55442275e-03,  4.02659240e-01,\n",
              "         1.68544143e+00, -1.50824388e+00, -9.90707619e-01,\n",
              "        -1.90074599e-01,  2.69957634e-01, -7.28548472e-02,\n",
              "         1.83701590e-01, -1.10453635e-01, -1.28147183e-01,\n",
              "         1.59372963e-01,  2.92074568e-01,  7.07872932e-01,\n",
              "         9.15772114e-01,  1.59372963e-01, -4.02072761e+00,\n",
              "         1.05510880e+00, -1.13225600e+00, -3.49316525e-01,\n",
              "        -3.96794458e-02,  1.00866324e+00, -2.60848788e-01,\n",
              "        -8.39133143e-02, -8.20407225e-01,  4.82280203e-01,\n",
              "        -9.02239882e-01, -1.18976003e+00, -4.62112890e-01,\n",
              "        -1.18976003e+00,  1.68544143e+00, -1.43746969e+00,\n",
              "        -8.39133143e-02, -1.10129229e+00,  8.44997925e-01,\n",
              "        -1.18976003e+00,  1.61245554e+00,  1.35368741e+00,\n",
              "        -7.47421342e-01,  2.47840700e-01,  4.82280203e-01,\n",
              "         9.51159209e-01,  3.60637064e-01, -1.47728017e+00,\n",
              "        -4.62112890e-01, -1.18976003e+00, -4.82018131e-01,\n",
              "        -1.78691725e+00,  6.64818387e-02, -1.14773785e+00,\n",
              "        -1.35563703e+00, -1.03494149e+00, -1.35563703e+00,\n",
              "        -1.10129229e+00, -2.71907256e-01, -9.19933430e-01,\n",
              "        -3.80280233e-01, -2.71907256e-01, -2.64092852e-02,\n",
              "        -8.58006014e-01,  9.99816465e-01, -6.94340700e-01,\n",
              "         3.60637064e-01,  4.82280203e-01,  1.54949576e-01,\n",
              "         7.34413253e-01,  2.69957634e-01, -6.94340700e-01,\n",
              "         6.65850757e-01,  1.83701590e-01,  1.57928014e+00,\n",
              "        -1.14552616e+00,  9.64429370e-01,  1.81489897e-01,\n",
              "         2.03606831e-01,  2.69957634e-01,  2.01719544e+00,\n",
              "        -7.76173357e-01,  1.83701590e-01,  1.00866324e+00,\n",
              "        -4.77594744e-01, -9.24356816e-01,  1.59372963e-01,\n",
              "        -2.60848788e-01,  1.11040114e+00, -3.49316525e-01,\n",
              "         1.59372963e-01,  2.03606831e-01, -2.60848788e-01,\n",
              "        -1.30034470e+00,  3.36308437e-01, -2.38731854e-01,\n",
              "        -2.49790321e-01,  2.34272932e-03,  1.30281846e+00,\n",
              "         1.11040114e+00,  2.16876992e-01,  1.59372963e-01,\n",
              "         7.09052255e-02,  9.55582596e-01,  1.55273982e+00,\n",
              "         9.30221598e-02, -2.03020353e+00,  1.53062289e+00,\n",
              "         1.25194952e+00, -1.57680638e+00,  7.09052255e-02,\n",
              "         4.55442275e-03,  2.25723765e-01,  3.36308437e-01,\n",
              "        -7.76173357e-01,  2.01719544e+00, -3.96794458e-02,\n",
              "        -1.72381051e-01, -2.60848788e-01,  1.04405033e+00,\n",
              "        -4.66536277e-01,  7.12296319e-01, -4.02072761e+00,\n",
              "         2.03606831e-01,  1.08828420e+00,  2.01719544e+00,\n",
              "         1.72967530e+00, -1.18976003e+00, -9.46473751e-01,\n",
              "         1.01529832e+00, -8.58006014e-01, -1.14552616e+00,\n",
              "        -1.34782263e-01,  5.57477779e-01,  1.08828420e+00,\n",
              "         1.59372963e-01,  3.36308437e-01, -1.47728017e+00,\n",
              "        -6.45683445e-01,  1.86237690e+00,  1.06616727e+00,\n",
              "        -1.60777009e+00,  1.11040114e+00, -3.05082657e-01,\n",
              "         3.60637064e-01, -1.28043946e+00, -4.02072761e+00,\n",
              "         1.08828420e+00,  7.12296319e-01, -4.82018131e-01,\n",
              "         1.35368741e+00, -4.02072761e+00, -6.81070539e-01,\n",
              "        -2.60848788e-01, -1.03494149e+00, -2.60848788e-01,\n",
              "         1.15139094e-01, -1.83115112e+00, -5.10770146e-01,\n",
              "         1.01529832e+00,  6.45945516e-01,  6.68062451e-01,\n",
              "         1.50526189e-01,  1.59372963e-01,  1.06837896e+00,\n",
              "         4.82280203e-01, -1.50824388e+00,  1.17675194e+00,\n",
              "        -1.14331447e+00,  1.15139094e-01,  9.15772114e-01,\n",
              "         8.41753861e-02, -7.03187474e-01, -1.35563703e+00,\n",
              "        -1.01282455e+00, -2.60848788e-01, -1.80903419e+00,\n",
              "         9.99816465e-01, -1.69844952e+00, -1.36669550e+00,\n",
              "         1.83701590e-01, -1.03715318e+00, -6.36836671e-01,\n",
              "         5.53054393e-01,  8.22880991e-01,  4.02659240e-01,\n",
              "         1.72967530e+00, -6.39048364e-01,  1.00866324e+00,\n",
              "         1.19665718e+00,  9.97604771e-01,  1.28733661e+00,\n",
              "         1.72967530e+00, -1.14773785e+00, -5.48368934e-01,\n",
              "        -2.60848788e-01,  6.83544305e-01,  8.22880991e-01,\n",
              "         2.69957634e-01, -1.14552616e+00,  9.99816465e-01,\n",
              "         9.97604771e-01,  9.15772114e-01, -9.24356816e-01,\n",
              "         1.05510880e+00, -4.29235096e-03,  1.08828420e+00,\n",
              "         4.33622947e-01,  1.06616727e+00, -6.89917313e-01,\n",
              "        -6.94340700e-01,  3.60637064e-01, -4.02072761e+00,\n",
              "        -2.71907256e-01,  9.30221598e-02, -1.47728017e+00,\n",
              "         1.59372963e-01, -4.82018131e-01, -3.20564511e-01,\n",
              "        -1.42862292e+00, -4.77594744e-01, -6.94340700e-01,\n",
              "         1.04405033e+00,  9.30221598e-02,  1.50850595e+00,\n",
              "        -8.39133143e-02, -6.70012072e-01, -2.60848788e-01,\n",
              "        -8.39133143e-02, -1.10453635e-01,  2.03606831e-01,\n",
              "        -1.21187696e+00, -4.02072761e+00,  8.60479779e-01,\n",
              "         6.45945516e-01,  1.28733661e+00, -8.88969722e-01,\n",
              "         1.28733661e+00, -1.50264117e-01,  1.29618338e+00,\n",
              "         3.37517520e+00, -4.02072761e+00,  1.53062289e+00,\n",
              "         2.01719544e+00,  1.59372963e-01,  1.35368741e+00,\n",
              "        -2.49790321e-01,  4.02659240e-01,  1.59372963e-01,\n",
              "        -9.68590685e-01, -1.14331447e+00, -1.41417343e-01,\n",
              "         9.97604771e-01, -1.14552616e+00, -2.60848788e-01,\n",
              "         1.59372963e-01, -2.64092852e-02, -3.60374993e-01,\n",
              "         3.29673356e-01,  1.81489897e-01,  8.41753861e-02,\n",
              "        -2.14403226e-01,  4.82280203e-01, -2.71907256e-01,\n",
              "        -1.50264117e-01,  1.59697369e+00,  1.83701590e-01,\n",
              "        -5.92602802e-01,  1.68544143e+00, -1.47728017e+00,\n",
              "        -1.11456245e+00, -1.10129229e+00, -1.24505236e+00,\n",
              "        -2.60848788e-01,  1.59372963e-01, -1.14773785e+00,\n",
              "         1.19665718e+00, -1.35563703e+00,  9.30221598e-02,\n",
              "         6.65850757e-01,  2.16876992e-01,  1.15463500e+00,\n",
              "        -3.96794458e-02,  1.59372963e-01,  9.30221598e-02,\n",
              "         4.91126977e-01, -3.93550394e-01, -8.07137065e-01,\n",
              "        -3.78068540e-01,  8.22880991e-01,  4.82280203e-01,\n",
              "         1.44215515e+00,  9.99816465e-01, -4.59901197e-01,\n",
              "        -3.78068540e-01, -1.01282455e+00,  1.83701590e-01,\n",
              "        -1.03818555e-01, -8.80122948e-01, -1.27822776e+00,\n",
              "         1.06616727e+00, -1.72381051e-01,  5.22090685e-01,\n",
              "        -1.21187696e+00, -3.96794458e-02, -1.18976003e+00,\n",
              "         9.15772114e-01,  2.66713570e-02, -4.29235096e-03,\n",
              "        -7.14245941e-01,  1.04405033e+00, -9.90707619e-01,\n",
              "         1.59372963e-01,  6.86935321e-02, -1.14773785e+00,\n",
              "        -3.05082657e-01,  1.11040114e+00, -4.88653211e-01,\n",
              "         4.69010042e-01,  2.03710068e+00,  7.09052255e-02,\n",
              "         5.90653181e-01,  2.26048172e+00,  1.55273982e+00,\n",
              "         8.22880991e-01, -5.73729932e-02, -7.03187474e-01,\n",
              "         8.00764056e-01,  2.03710068e+00,  6.52580597e-01,\n",
              "        -1.41092937e+00,  1.37580435e+00,  4.82280203e-01,\n",
              "        -4.02397168e-01, -8.77911254e-01, -4.02072761e+00,\n",
              "        -1.27822776e+00, -1.11456245e+00, -1.21187696e+00,\n",
              "        -7.45209649e-01, -1.14552616e+00,  1.72967530e+00,\n",
              "        -8.88969722e-01, -1.94497986e-01,  3.60637064e-01,\n",
              "         1.04405033e+00,  1.72967530e+00, -3.09506044e-01,\n",
              "        -1.50264117e-01, -3.60374993e-01, -1.43304630e+00,\n",
              "         7.34413253e-01, -7.03187474e-01,  5.22090685e-01,\n",
              "        -5.92602802e-01, -4.29235096e-03, -2.76330642e-01,\n",
              "         6.45945516e-01, -8.39133143e-02,  9.15772114e-01,\n",
              "        -2.60848788e-01,  9.55582596e-01,  3.29673356e-01,\n",
              "         1.00866324e+00, -2.58637095e-01,  1.15463500e+00,\n",
              "        -1.36669550e+00, -4.82018131e-01,  9.99816465e-01,\n",
              "         1.25194952e+00,  9.30221598e-02, -8.39133143e-02,\n",
              "        -3.05082657e-01,  6.45945516e-01,  1.35368741e+00,\n",
              "         1.30281846e+00, -9.90707619e-01,  3.36308437e-01,\n",
              "        -1.54805436e+00,  1.68544143e+00, -1.16764309e+00,\n",
              "        -1.22735882e+00, -8.62429400e-01,  3.11979809e-01,\n",
              "         1.19665718e+00,  1.77612086e+00, -1.94497986e-01,\n",
              "        -1.18976003e+00,  1.81489897e-01, -1.43746969e+00,\n",
              "         9.64429370e-01, -2.60848788e-01, -1.54805436e+00,\n",
              "        -6.17963800e-02, -7.47421342e-01, -5.73729932e-02,\n",
              "        -1.18976003e+00]])"
            ]
          },
          "metadata": {},
          "execution_count": 19
        }
      ]
    },
    {
      "cell_type": "code",
      "source": [
        "from sklearn.ensemble import RandomForestRegressor"
      ],
      "metadata": {
        "id": "wDcGb2obSCg7"
      },
      "execution_count": 20,
      "outputs": []
    },
    {
      "cell_type": "code",
      "source": [
        "x_train.shape"
      ],
      "metadata": {
        "colab": {
          "base_uri": "https://localhost:8080/"
        },
        "id": "zfUQxVRHSOKj",
        "outputId": "1c49b360-0503-4aa8-a37f-8385ebb63dac"
      },
      "execution_count": 21,
      "outputs": [
        {
          "output_type": "execute_result",
          "data": {
            "text/plain": [
              "(5377, 7)"
            ]
          },
          "metadata": {},
          "execution_count": 21
        }
      ]
    },
    {
      "cell_type": "code",
      "source": [
        "y_train = y_train.reshape(-1)"
      ],
      "metadata": {
        "id": "THTwuokkTXzk"
      },
      "execution_count": 22,
      "outputs": []
    },
    {
      "cell_type": "code",
      "source": [
        "y_train"
      ],
      "metadata": {
        "colab": {
          "base_uri": "https://localhost:8080/"
        },
        "id": "xDXu2JfuS0zM",
        "outputId": "9decc5b1-1944-49c3-e3c1-a357a5046c21"
      },
      "execution_count": 23,
      "outputs": [
        {
          "output_type": "execute_result",
          "data": {
            "text/plain": [
              "array([ 0.15494958, -1.47728017, -1.14552616, ...,  1.68544143,\n",
              "       -1.3003447 ,  0.07090523])"
            ]
          },
          "metadata": {},
          "execution_count": 23
        }
      ]
    },
    {
      "cell_type": "code",
      "source": [
        "rf= RandomForestRegressor(n_estimators=10,random_state=0)\n",
        "rf.fit(x_train,y_train)"
      ],
      "metadata": {
        "colab": {
          "base_uri": "https://localhost:8080/"
        },
        "id": "5iRDUJ1NSHmk",
        "outputId": "d25fff21-34d3-45ff-84b8-fc9737aa6729"
      },
      "execution_count": 24,
      "outputs": [
        {
          "output_type": "execute_result",
          "data": {
            "text/plain": [
              "RandomForestRegressor(n_estimators=10, random_state=0)"
            ]
          },
          "metadata": {},
          "execution_count": 24
        }
      ]
    },
    {
      "cell_type": "code",
      "source": [
        "y_pred =rf.predict(x_test)\n",
        "y_pred"
      ],
      "metadata": {
        "colab": {
          "base_uri": "https://localhost:8080/"
        },
        "id": "POhr-91jTRC8",
        "outputId": "5ef40689-d5aa-4eb8-d665-377f677eb925"
      },
      "execution_count": 25,
      "outputs": [
        {
          "output_type": "execute_result",
          "data": {
            "text/plain": [
              "array([-1.47728017e+00,  1.37580435e+00,  6.75803378e-01, -3.58384469e-01,\n",
              "       -5.67831836e-01, -1.62413662e+00, -3.54410768e+00, -1.88895276e-02,\n",
              "        1.48314495e-01,  1.68101804e+00, -1.28147183e-01, -1.19683745e+00,\n",
              "       -1.14751668e+00,  1.38465112e+00, -2.60848788e-01, -4.29235096e-03,\n",
              "       -3.78068540e-01,  2.16537890e+00,  9.97604771e-01, -2.98005238e-01,\n",
              "        1.65403538e+00, -1.28147183e-01, -1.14552616e+00,  3.60637064e-01,\n",
              "       -5.93708649e-01,  7.70979671e-02, -4.74203728e-02,  9.99816465e-01,\n",
              "        1.65005433e+00,  8.94097519e-01, -2.95572375e-01,  1.02193340e+00,\n",
              "       -1.71304669e+00,  1.74854817e-01,  9.15772114e-01,  9.60005983e-01,\n",
              "       -1.49740658e+00, -4.23408255e-01,  1.79381440e+00, -4.11465111e-01,\n",
              "       -1.18976003e+00,  3.99120530e-01,  7.67367486e-01,  1.47488821e+00,\n",
              "        8.22438652e-01,  5.21206007e-01,  3.36308437e-01, -1.67957665e-01,\n",
              "        4.82280203e-01,  5.32116781e-02,  1.67570998e+00, -3.80280233e-01,\n",
              "       -1.24505236e+00, -7.76173357e-01,  4.82280203e-01,  6.63860233e-01,\n",
              "        1.08386081e+00, -6.45241106e-01, -9.90707619e-01,  4.23670327e-01,\n",
              "       -2.56425402e-01,  2.72169327e-01,  2.60078490e-02, -6.19585462e-01,\n",
              "        5.64112860e-01,  8.23544499e-01, -1.85769144e+00, -1.21512103e-01,\n",
              "        3.25471139e-01,  4.82280203e-01, -6.57774282e-02,  5.72959633e-01,\n",
              "       -1.73708067e-01,  1.75223457e+00,  6.37098743e-01, -8.12666298e-01,\n",
              "       -1.58786484e+00,  1.71198175e+00, -6.33445654e-02,  3.55181307e-02,\n",
              "       -1.23133986e+00, -1.28147183e-01,  1.72643123e-01,  2.98488479e-01,\n",
              "        5.01964274e-01,  1.54610474e+00,  1.15662553e+00, -9.43156211e-01,\n",
              "       -1.18843301e+00, -6.53350895e-02, -5.26252000e-01, -2.73455441e-01,\n",
              "       -1.32246163e+00, -2.49790321e-01, -2.67483869e-01,  1.08386081e+00,\n",
              "       -1.06701104e+00, -1.18976003e+00, -2.71907256e-01, -3.31622978e-01,\n",
              "        5.72959633e-01, -2.60848788e-01, -1.11810116e+00,  1.41119144e+00,\n",
              "       -5.29496063e-02, -2.60848788e-01,  1.03011666e+00,  1.31947964e-01,\n",
              "       -1.15614229e+00,  4.83164880e-01, -1.07298261e+00,  1.83701590e-01,\n",
              "        9.99816465e-01, -1.42530538e+00, -1.63534278e-01, -1.61285698e+00,\n",
              "        8.85987730e-02,  9.30221598e-02, -3.00556033e+00, -1.35563703e+00,\n",
              "       -6.50549170e-01, -3.96794458e-02, -3.78068540e-01,  1.20572512e+00,\n",
              "       -1.14773785e+00, -5.45051394e-01,  1.52737882e-01,  1.08828420e+00,\n",
              "       -2.67483869e-01,  4.82280203e-01, -1.66851818e-01,  5.72959633e-01,\n",
              "       -2.54656047e-01, -2.07546977e-01, -3.96794458e-02,  2.12645310e+00,\n",
              "       -3.16141124e-01, -7.60691503e-01, -6.14719737e-01, -1.58786484e+00,\n",
              "       -3.02207456e-01,  1.31166524e+00,  1.14357654e+00,  2.40099773e-01,\n",
              "       -2.65272175e-01, -3.22672967e+00, -5.45714902e-01,  7.51074431e-02,\n",
              "        1.86237690e+00,  9.96572401e-02, -1.08802213e+00, -3.78068540e-01,\n",
              "        4.89799961e-01, -1.72381051e-01,  8.60479779e-01, -7.75952187e-01,\n",
              "        7.50337446e-01,  2.47840700e-01,  1.19510899e+00, -3.52560589e-02,\n",
              "        9.15993284e-01,  1.72746360e+00,  9.30221598e-02, -1.35563703e+00,\n",
              "       -4.17879022e-01,  4.47556616e-01,  7.51885632e-01, -1.96709679e-01,\n",
              "       -1.28147183e-01,  1.90336671e-01,  4.47556616e-01,  6.16751163e-01,\n",
              "       -3.29411285e-01,  3.67272145e-01, -1.08249290e+00,  7.05661239e-01,\n",
              "       -9.95131006e-01, -2.75003626e-01, -1.37436295e-01,  1.26197561e-01,\n",
              "        1.94044968e+00, -1.51812303e-01,  1.08386081e+00,  7.53286124e-02,\n",
              "       -5.64293127e-01, -9.49717814e-02, -8.39133143e-02, -4.59901197e-01,\n",
              "        1.97635259e-01, -3.71433460e-01,  2.98709648e-01, -1.76480032e+00,\n",
              "       -1.03803786e+00, -7.27516101e-01,  4.46893108e-01, -1.14773785e+00,\n",
              "        5.37793708e-01,  7.83512848e-01,  3.06524052e-02, -7.36362875e-01,\n",
              "        1.11969025e+00,  5.22090685e-01, -1.45848078e+00, -4.82902808e-01,\n",
              "        1.42158640e+00, -1.34782263e-01,  3.34096743e-01,  1.88228214e+00,\n",
              "       -1.50824388e+00, -9.90707619e-01, -1.52033472e-01,  2.10241911e-01,\n",
              "       -2.57088910e-01,  2.59212490e-01, -3.94435071e-01, -5.59427401e-01,\n",
              "        1.52737882e-01,  1.00541917e-01,  8.30400748e-01,  9.15772114e-01,\n",
              "        2.52264087e-01, -3.74669880e+00,  1.20749448e+00, -1.00618947e+00,\n",
              "       -4.53487286e-01, -3.96794458e-02,  1.31210758e+00, -3.07736689e-01,\n",
              "        1.63796349e-01, -6.29759252e-01,  4.82280203e-01, -4.31370352e-01,\n",
              "       -1.18976003e+00, -1.94055647e-01, -1.26407293e+00,  1.68544143e+00,\n",
              "       -1.00596830e+00,  1.70800070e+00, -9.52887662e-01,  5.97288261e-01,\n",
              "       -1.18976003e+00,  1.67659465e+00,  1.35368741e+00, -6.58953605e-01,\n",
              "        4.07082626e-01,  3.34096743e-01,  9.97604771e-01,  3.60637064e-01,\n",
              "       -1.45405739e+00, -5.01259864e-01, -9.26568510e-01, -5.26252000e-01,\n",
              "       -1.75153016e+00, -6.27768728e-01, -1.15194007e+00, -1.34966546e+00,\n",
              "       -3.91338701e-01, -1.45737493e+00, -1.01835379e+00, -2.71907256e-01,\n",
              "       -1.08691628e+00, -6.72887274e-01, -2.57531248e-01, -6.44504122e-02,\n",
              "       -8.58006014e-01,  9.99816465e-01, -7.89885856e-01,  3.60637064e-01,\n",
              "        3.06450575e-01, -1.18858070e-01,  7.21806601e-01,  2.69957634e-01,\n",
              "       -6.89474974e-01,  8.49421312e-01,  2.95170939e-01,  1.02193340e+00,\n",
              "       -1.05683725e+00,  9.34571509e-01,  1.79278203e-01,  1.59372963e-01,\n",
              "        1.50526189e-01,  1.83871178e+00, -7.67990091e-01,  2.17411484e-01,\n",
              "        1.05201243e+00, -2.10201009e-01, -1.02830641e+00,  2.00068122e-01,\n",
              "       -6.03661270e-01,  9.60005983e-01, -3.71654629e-01,  3.88062063e-01,\n",
              "        1.39467722e-01, -2.60848788e-01, -1.37465760e+00,  3.36308437e-01,\n",
              "       -2.56646571e-01, -2.49790321e-01, -1.50264117e-01,  1.30281846e+00,\n",
              "        1.10376606e+00, -1.35298300e+00,  2.93401584e-01,  7.09052255e-02,\n",
              "        5.76498343e-01,  1.33002229e+00,  6.49336533e-02, -5.62744941e-01,\n",
              "        1.63014909e+00,  1.00247050e+00, -1.47683783e+00,  7.97519992e-02,\n",
              "        1.28409255e-01,  2.25723765e-01,  3.36308437e-01, -7.76173357e-01,\n",
              "        1.66553619e+00, -3.96794458e-02, -9.27600880e-02, -2.60848788e-01,\n",
              "        9.11127558e-01, -5.66504820e-01,  7.12296319e-01, -1.28464168e+00,\n",
              "        2.58899167e-01,  1.03100134e+00,  1.83362489e+00,  1.79602610e+00,\n",
              "       -1.18555781e+00, -7.42997955e-01,  9.96056586e-01, -8.34119725e-01,\n",
              "       -1.11876467e+00, -1.00943354e-01,  5.75171327e-01,  1.08828420e+00,\n",
              "        1.52737882e-01,  4.03543917e-01, -1.45405739e+00, -8.11781621e-01,\n",
              "        1.93890149e+00,  5.78931206e-01, -1.60777009e+00,  1.07059065e+00,\n",
              "       -8.08169435e-02,  3.60637064e-01, -1.28043946e+00, -5.71149376e-01,\n",
              "        1.08828420e+00,  6.35992896e-01, -5.61417925e-01,  2.02427286e+00,\n",
              "       -3.54410768e+00, -6.41260058e-01, -2.60848788e-01, -9.74562257e-01,\n",
              "       -2.60848788e-01,  8.19636927e-02, -1.22625297e+00, -9.46473751e-01,\n",
              "        1.01529832e+00,  6.45945516e-01, -1.09274312e-02, -9.26568510e-01,\n",
              "        1.43891109e-01,  7.96340669e-01,  1.48093326e-01, -1.49851243e+00,\n",
              "        1.34572532e+00, -1.13247717e+00,  1.15139094e-01,  9.15772114e-01,\n",
              "        1.65123366e-01, -7.06947353e-01, -1.36337796e+00, -2.11137268e+00,\n",
              "       -2.60848788e-01, -1.18887535e+00,  9.99816465e-01, -1.63121404e+00,\n",
              "       -1.36669550e+00,  2.96276786e-01, -9.16394720e-01, -8.36994926e-01,\n",
              "        3.35866098e-01,  7.95013653e-01,  1.84365098e-01,  1.78496763e+00,\n",
              "       -5.13866516e-01,  1.03520356e+00,  1.23823702e+00,  9.83671103e-01,\n",
              "        1.28733661e+00,  1.64784264e+00, -1.14773785e+00,  4.34802271e-02,\n",
              "       -2.27673387e-01,  8.09389661e-01,  7.25345310e-01,  7.31169190e-02,\n",
              "       -6.91686668e-01,  1.54610474e+00,  9.97604771e-01,  9.15772114e-01,\n",
              "       -4.85262195e-02,  7.27778173e-01, -4.29235096e-03,  1.03520356e+00,\n",
              "        4.73875768e-01,  1.01751001e+00, -6.71560258e-01, -6.53645541e-01,\n",
              "        3.96908837e-01,  2.56436839e+00, -2.71907256e-01,  2.34272932e-03,\n",
              "       -1.47728017e+00,  1.81489897e-01, -6.61165299e-01, -3.66125396e-01,\n",
              "       -1.16100801e+00, -2.10201009e-01, -6.72887274e-01,  9.20195501e-01,\n",
              "        6.11737745e-02,  1.50850595e+00,  2.74159851e-01, -9.68590685e-01,\n",
              "       -2.27673387e-01, -3.63619056e-02, -2.65051006e-01,  1.63796349e-01,\n",
              "       -9.63061451e-01, -3.22672967e+00,  8.60479779e-01,  2.03606831e-01,\n",
              "        1.28733661e+00, -8.11118113e-01,  1.28733661e+00, -2.78542336e-01,\n",
              "        5.58804795e-01,  3.01157281e+00, -3.54410768e+00,  1.65005433e+00,\n",
              "        1.92872770e+00,  7.93907807e-01,  1.42313459e+00,  5.76940682e-01,\n",
              "        3.05344729e-01,  6.86935321e-02, -4.48842730e-01, -1.22957051e+00,\n",
              "       -1.91519547e+00,  9.97604771e-01, -1.44189308e+00, -2.60848788e-01,\n",
              "        1.50526189e-01, -1.55129843e-01, -6.09854011e-01,  3.29673356e-01,\n",
              "        1.91515994e-02,  9.60448322e-01, -3.21228019e-01,  4.23670327e-01,\n",
              "       -1.99953743e-02, -1.50264117e-01,  1.59697369e+00,  2.11568927e-01,\n",
              "       -5.70485868e-01,  1.68544143e+00, -1.45405739e+00, -1.06059713e+00,\n",
              "       -9.04009237e-01, -1.24505236e+00, -2.60848788e-01,  1.85913284e-01,\n",
              "       -1.14773785e+00,  1.05333945e+00, -1.50934973e+00,  9.30221598e-02,\n",
              "        9.50274532e-01, -1.53788057e+00,  1.06948481e+00, -3.96794458e-02,\n",
              "        1.59372963e-01,  9.30221598e-02,  4.91126977e-01, -3.09506044e-01,\n",
              "       -1.09288786e+00, -3.78068540e-01,  7.67367486e-01,  4.82280203e-01,\n",
              "        7.88820912e-01,  9.99816465e-01, -4.59901197e-01, -3.78068540e-01,\n",
              "       -6.54309049e-01,  2.39436265e-01,  2.47840700e-01, -1.06811689e+00,\n",
              "       -1.23797494e+00,  1.06616727e+00, -9.71834749e-02,  5.22090685e-01,\n",
              "       -6.45241106e-01, -5.51612998e-02, -1.18976003e+00,  7.27778173e-01,\n",
              "       -1.31464723e-01, -4.29235096e-03, -1.20214551e+00,  1.41539366e+00,\n",
              "       -9.90707619e-01,  2.08472557e-01, -6.93161377e-02, -1.14773785e+00,\n",
              "        5.43910012e-03,  1.16989569e+00, -1.08271407e+00,  7.50779785e-01,\n",
              "        1.82499928e+00,  7.09052255e-02,  4.78962663e-01,  2.19811196e+00,\n",
              "        1.19886887e+00,  8.71538246e-01, -1.86535889e-01, -7.06947353e-01,\n",
              "        4.89136452e-01,  1.66000695e+00,  4.66356010e-01, -1.61528984e+00,\n",
              "        1.45542531e+00,  7.20110723e-02, -4.83345147e-01, -8.38543111e-01,\n",
              "       -3.74669880e+00, -1.12539975e+00, -9.42050364e-01, -1.25478381e+00,\n",
              "       -4.17215514e-01, -1.14552616e+00,  1.71861683e+00, -6.05430624e-01,\n",
              "       -5.74909255e-01,  2.76371545e-01,  1.64673679e+00,  1.70755836e+00,\n",
              "       -9.38659347e-02,  2.03606831e-01, -8.86758028e-01, -1.43216163e+00,\n",
              "        7.27778173e-01, -8.20186056e-01,  5.22090685e-01, -5.88179416e-01,\n",
              "       -4.29235096e-03, -2.14403226e-01,  7.17162045e-01,  2.05818525e-01,\n",
              "        9.15772114e-01, -1.76480032e+00,  5.60131811e-01,  3.84744523e-01,\n",
              "        6.48599549e-01, -1.21512103e-01,  1.05510880e+00, -1.05484673e+00,\n",
              "       -6.41260058e-01,  9.99816465e-01,  7.50779785e-01,  1.68219736e-01,\n",
              "        2.56687473e-01, -3.05082657e-01,  6.45945516e-01,  1.77280332e+00,\n",
              "        7.54318494e-01, -9.90707619e-01,  3.36308437e-01, -1.54805436e+00,\n",
              "        1.68544143e+00, -1.16764309e+00, -1.17604753e+00, -8.62429400e-01,\n",
              "       -7.30760165e-02,  1.00556687e+00,  1.37160213e+00, -1.54687504e-01,\n",
              "       -1.18976003e+00,  1.15139094e-01, -1.04865399e+00,  7.67146316e-01,\n",
              "       -2.60848788e-01, -1.54805436e+00, -9.65199668e-02, -7.47421342e-01,\n",
              "       -5.73729932e-02, -1.18976003e+00])"
            ]
          },
          "metadata": {},
          "execution_count": 25
        }
      ]
    },
    {
      "cell_type": "code",
      "source": [
        "from sklearn.metrics import r2_score"
      ],
      "metadata": {
        "id": "Up89bq86YXc7"
      },
      "execution_count": 26,
      "outputs": []
    },
    {
      "cell_type": "code",
      "source": [
        "y_test.shape\n",
        "y_test = y_test.transpose()\n",
        "y_test = y_test.reshape(-1)\n",
        "y_test.shape\n"
      ],
      "metadata": {
        "colab": {
          "base_uri": "https://localhost:8080/"
        },
        "id": "O3YbLZWrYlQk",
        "outputId": "9b55763e-d5ae-4725-db05-40aa756d3ec1"
      },
      "execution_count": 27,
      "outputs": [
        {
          "output_type": "execute_result",
          "data": {
            "text/plain": [
              "(598,)"
            ]
          },
          "metadata": {},
          "execution_count": 27
        }
      ]
    },
    {
      "cell_type": "code",
      "source": [
        "accuracy = r2_score(y_test,y_pred)"
      ],
      "metadata": {
        "id": "Fxbk8nNjYbaq"
      },
      "execution_count": 28,
      "outputs": []
    },
    {
      "cell_type": "code",
      "source": [
        "accuracy"
      ],
      "metadata": {
        "colab": {
          "base_uri": "https://localhost:8080/"
        },
        "id": "UyZcVyAtZC-G",
        "outputId": "b207edc7-cc00-4b6c-faff-455af24383f8"
      },
      "execution_count": 29,
      "outputs": [
        {
          "output_type": "execute_result",
          "data": {
            "text/plain": [
              "0.7865741873470318"
            ]
          },
          "metadata": {},
          "execution_count": 29
        }
      ]
    },
    {
      "cell_type": "code",
      "source": [
        "import pickle\n",
        "pickle.dump(rf,open('regression.pkl','wb'))"
      ],
      "metadata": {
        "id": "4w35xdRsZLV0"
      },
      "execution_count": 30,
      "outputs": []
    }
  ]
}